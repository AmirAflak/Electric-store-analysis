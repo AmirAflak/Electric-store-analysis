{
 "cells": [
  {
   "cell_type": "code",
   "execution_count": null,
   "metadata": {
    "id": "BPnYcquhYgUX"
   },
   "outputs": [],
   "source": [
    "import pandas as pd \n",
    "import matplotlib.pyplot as plt\n",
    " "
   ]
  },
  {
   "cell_type": "code",
   "execution_count": null,
   "metadata": {
    "id": "X90HHt1NdHu7"
   },
   "outputs": [],
   "source": [
    "df = pd.read_csv('./sales_data.csv')"
   ]
  },
  {
   "cell_type": "code",
   "execution_count": null,
   "metadata": {
    "colab": {
     "base_uri": "https://localhost:8080/",
     "height": 310
    },
    "id": "CV5NBnTyY8NC",
    "outputId": "79781747-e557-4620-b54b-33fcfc01c311",
    "scrolled": true
   },
   "outputs": [
    {
     "data": {
      "text/html": [
       "<div>\n",
       "<style scoped>\n",
       "    .dataframe tbody tr th:only-of-type {\n",
       "        vertical-align: middle;\n",
       "    }\n",
       "\n",
       "    .dataframe tbody tr th {\n",
       "        vertical-align: top;\n",
       "    }\n",
       "\n",
       "    .dataframe thead th {\n",
       "        text-align: right;\n",
       "    }\n",
       "</style>\n",
       "<table border=\"1\" class=\"dataframe\">\n",
       "  <thead>\n",
       "    <tr style=\"text-align: right;\">\n",
       "      <th></th>\n",
       "      <th>Order ID</th>\n",
       "      <th>Product</th>\n",
       "      <th>Quantity Ordered</th>\n",
       "      <th>Price Each</th>\n",
       "      <th>Order Date</th>\n",
       "      <th>Purchase Address</th>\n",
       "    </tr>\n",
       "  </thead>\n",
       "  <tbody>\n",
       "    <tr>\n",
       "      <th>186845</th>\n",
       "      <td>259353</td>\n",
       "      <td>AAA Batteries (4-pack)</td>\n",
       "      <td>3</td>\n",
       "      <td>2.99</td>\n",
       "      <td>09/17/19 20:56</td>\n",
       "      <td>840 Highland St, Los Angeles, CA 90001</td>\n",
       "    </tr>\n",
       "    <tr>\n",
       "      <th>186846</th>\n",
       "      <td>259354</td>\n",
       "      <td>iPhone</td>\n",
       "      <td>1</td>\n",
       "      <td>700</td>\n",
       "      <td>09/01/19 16:00</td>\n",
       "      <td>216 Dogwood St, San Francisco, CA 94016</td>\n",
       "    </tr>\n",
       "    <tr>\n",
       "      <th>186847</th>\n",
       "      <td>259355</td>\n",
       "      <td>iPhone</td>\n",
       "      <td>1</td>\n",
       "      <td>700</td>\n",
       "      <td>09/23/19 07:39</td>\n",
       "      <td>220 12th St, San Francisco, CA 94016</td>\n",
       "    </tr>\n",
       "    <tr>\n",
       "      <th>186848</th>\n",
       "      <td>259356</td>\n",
       "      <td>34in Ultrawide Monitor</td>\n",
       "      <td>1</td>\n",
       "      <td>379.99</td>\n",
       "      <td>09/19/19 17:30</td>\n",
       "      <td>511 Forest St, San Francisco, CA 94016</td>\n",
       "    </tr>\n",
       "    <tr>\n",
       "      <th>186849</th>\n",
       "      <td>259357</td>\n",
       "      <td>USB-C Charging Cable</td>\n",
       "      <td>1</td>\n",
       "      <td>11.95</td>\n",
       "      <td>09/30/19 00:18</td>\n",
       "      <td>250 Meadow St, San Francisco, CA 94016</td>\n",
       "    </tr>\n",
       "  </tbody>\n",
       "</table>\n",
       "</div>"
      ],
      "text/plain": [
       "       Order ID  ...                         Purchase Address\n",
       "186845   259353  ...   840 Highland St, Los Angeles, CA 90001\n",
       "186846   259354  ...  216 Dogwood St, San Francisco, CA 94016\n",
       "186847   259355  ...     220 12th St, San Francisco, CA 94016\n",
       "186848   259356  ...   511 Forest St, San Francisco, CA 94016\n",
       "186849   259357  ...   250 Meadow St, San Francisco, CA 94016\n",
       "\n",
       "[5 rows x 6 columns]"
      ]
     },
     "execution_count": 30,
     "metadata": {
      "tags": []
     },
     "output_type": "execute_result"
    }
   ],
   "source": [
    "df.tail()"
   ]
  },
  {
   "cell_type": "markdown",
   "metadata": {
    "id": "0EiY9Ub6dkOQ"
   },
   "source": [
    "# **Qeustion** **1** : What was the best month for sale? How much was earned that month?\n",
    "\n",
    "\n",
    "\n",
    "\n"
   ]
  },
  {
   "cell_type": "markdown",
   "metadata": {
    "id": "Jbpy6e4os327"
   },
   "source": [
    "\n",
    "\n",
    "1.Clean up data from missing (NaN) values :\n",
    "\n"
   ]
  },
  {
   "cell_type": "code",
   "execution_count": null,
   "metadata": {
    "id": "qvvCFqd7tKtN"
   },
   "outputs": [],
   "source": [
    "df = df.dropna(how='all')\n",
    "df.head()"
   ]
  },
  {
   "cell_type": "markdown",
   "metadata": {
    "id": "K1D7z3YRvYBA"
   },
   "source": [
    "\n",
    "\n",
    "2.Sepereting date values with 'Or' for preventing from the error that we want to convert type of date column values, from string to integer : \n",
    "\n"
   ]
  },
  {
   "cell_type": "code",
   "execution_count": null,
   "metadata": {
    "colab": {
     "base_uri": "https://localhost:8080/"
    },
    "id": "M8mTYlkdwEd_",
    "outputId": "601c9750-c8a9-4ab2-839a-8ef5a384e84b"
   },
   "outputs": [
    {
     "data": {
      "text/plain": [
       "0         04/19/19 08:46\n",
       "2         04/07/19 22:30\n",
       "3         04/12/19 14:38\n",
       "4         04/12/19 14:38\n",
       "5         04/30/19 09:27\n",
       "               ...      \n",
       "186845    09/17/19 20:56\n",
       "186846    09/01/19 16:00\n",
       "186847    09/23/19 07:39\n",
       "186848    09/19/19 17:30\n",
       "186849    09/30/19 00:18\n",
       "Name: Order Date, Length: 185950, dtype: object"
      ]
     },
     "execution_count": 7,
     "metadata": {
      "tags": []
     },
     "output_type": "execute_result"
    }
   ],
   "source": [
    "df=df[df['Order Date'].str[0:2]!='Or']\n",
    "df['Order Date']"
   ]
  },
  {
   "cell_type": "markdown",
   "metadata": {
    "id": "Rmz-qiW-fqMv"
   },
   "source": [
    "\n",
    "\n",
    "3.Add month column : \n",
    "\n",
    "\n",
    "\n"
   ]
  },
  {
   "cell_type": "code",
   "execution_count": null,
   "metadata": {
    "colab": {
     "base_uri": "https://localhost:8080/"
    },
    "id": "Qo4dV8DgfpaX",
    "outputId": "20593b93-cef7-451c-dca1-9c424de72047"
   },
   "outputs": [
    {
     "data": {
      "text/plain": [
       "0         04\n",
       "2         04\n",
       "3         04\n",
       "4         04\n",
       "5         04\n",
       "          ..\n",
       "186845    09\n",
       "186846    09\n",
       "186847    09\n",
       "186848    09\n",
       "186849    09\n",
       "Name: Month, Length: 185950, dtype: object"
      ]
     },
     "execution_count": 8,
     "metadata": {
      "tags": []
     },
     "output_type": "execute_result"
    }
   ],
   "source": [
    "df['Month']=df['Order Date'].str[0:2]\n",
    "df['Month']"
   ]
  },
  {
   "cell_type": "markdown",
   "metadata": {
    "id": "FPhIKAUIzIEX"
   },
   "source": [
    "\n",
    "\n",
    "\n",
    "5.Converting type of Month column values from string to integer : \n",
    "\n",
    "\n"
   ]
  },
  {
   "cell_type": "code",
   "execution_count": null,
   "metadata": {
    "id": "35iUaXeqfkG5"
   },
   "outputs": [],
   "source": [
    "df['Month']=df['Month'].astype('int16')"
   ]
  },
  {
   "cell_type": "markdown",
   "metadata": {
    "id": "EgnQG-Xkz8bw"
   },
   "source": [
    "6.Change two column data type from string to float and integer (for creating Total Price column):"
   ]
  },
  {
   "cell_type": "code",
   "execution_count": null,
   "metadata": {
    "id": "udoayriey1Jr"
   },
   "outputs": [],
   "source": [
    "df['Quantity Ordered'] = df['Quantity Ordered'].astype('int16')\n",
    "df['Price Each'] = df['Price Each'].astype('float16')"
   ]
  },
  {
   "cell_type": "markdown",
   "metadata": {
    "id": "sow4qwIT1bxb"
   },
   "source": [
    "7.Add total price column which is the product of Quantity Ordered multiple by Price Each values : \n"
   ]
  },
  {
   "cell_type": "code",
   "execution_count": null,
   "metadata": {
    "id": "weshzJwO1HGx"
   },
   "outputs": [],
   "source": [
    "df['Total Price'] = df['Quantity Ordered']*df['Price Each']"
   ]
  },
  {
   "cell_type": "markdown",
   "metadata": {
    "id": "tlEEpF2o_KKK"
   },
   "source": [
    "8.Grouping data frame by 'Month' column and get the sum of Total Price in every month and sorting them from descending order:"
   ]
  },
  {
   "cell_type": "code",
   "execution_count": null,
   "metadata": {
    "id": "QPV39IfR17oo"
   },
   "outputs": [],
   "source": [
    "result = df.groupby('Month').sum()['Total Price'].sort_values(ascending=False)\n",
    "result"
   ]
  },
  {
   "cell_type": "markdown",
   "metadata": {
    "id": "LR9mYqeO_v0k"
   },
   "source": [
    "9.Ploting the result and as we can see , the best seller month is december and it make sense maybe becouse of christmas !!"
   ]
  },
  {
   "cell_type": "code",
   "execution_count": null,
   "metadata": {
    "id": "blmzoQkU4sth"
   },
   "outputs": [],
   "source": [
    "x=result.index\n",
    "y =result.values\n",
    "plt.bar(x,y)\n",
    "plt.xticks(x)\n",
    "plt.xlabel('Months')\n",
    "plt.ylabel('Sales in Million USD($)')\n",
    "plt.show()"
   ]
  },
  {
   "cell_type": "markdown",
   "metadata": {
    "id": "dsra07D6ANJ7"
   },
   "source": [
    "# **Question** **2** : which city had the most number of sales ?"
   ]
  },
  {
   "cell_type": "markdown",
   "metadata": {
    "id": "aL71AX1iZVx8"
   },
   "source": [
    "\n",
    "\n",
    "1.Add city column , also this column includes state name \n",
    "\n"
   ]
  },
  {
   "cell_type": "code",
   "execution_count": null,
   "metadata": {
    "id": "yqeIwb5kAMUl"
   },
   "outputs": [],
   "source": [
    "df['City']=df['Purchase Address']\n",
    "df['City'] = df['City'].apply(\n",
    "    lambda x: x.split(',')[1]+' '+x.split(',')[2].split(' ')[1])\n"
   ]
  },
  {
   "cell_type": "markdown",
   "metadata": {
    "id": "guIqc-v4aEvt"
   },
   "source": [
    "2.Grouping data frame by 'City' column and get the sum of 'Total Price' column for each city :"
   ]
  },
  {
   "cell_type": "code",
   "execution_count": null,
   "metadata": {
    "id": "NiKEYKlNaCRl"
   },
   "outputs": [],
   "source": [
    "result = df.groupby('City').sum()['Total Price']\n",
    "result"
   ]
  },
  {
   "cell_type": "markdown",
   "metadata": {
    "id": "rfjlQx2yb8Qf"
   },
   "source": [
    "3.Ploting into a bar chart for better and clear vision : "
   ]
  },
  {
   "cell_type": "code",
   "execution_count": null,
   "metadata": {
    "colab": {
     "base_uri": "https://localhost:8080/",
     "height": 352
    },
    "id": "BrLuucu9XBZA",
    "outputId": "0d9090f5-666b-4506-c58f-cb258ae2521a"
   },
   "outputs": [
    {
     "data": {
      "image/png": "[encoded data removed]",
      "text/plain": [
       "<Figure size 432x288 with 1 Axes>"
      ]
     },
     "metadata": {
      "needs_background": "light",
      "tags": []
     },
     "output_type": "display_data"
    }
   ],
   "source": [
    "x = result.index\n",
    "y = result.values\n",
    "plt.bar(x,y)\n",
    "plt.xticks(x,rotation='vertical',size=8)\n",
    "plt.xlabel('Cities')\n",
    "plt.ylabel('Sales in Million USD($)')\n",
    "plt.show()"
   ]
  },
  {
   "cell_type": "markdown",
   "metadata": {
    "id": "dFJ-VbT9iZzF"
   },
   "source": [
    "# **Question** **3** : what is the best time for showing our advertisements, in order to maximize the possibility of customer's buying product?"
   ]
  },
  {
   "cell_type": "markdown",
   "metadata": {
    "id": "a5b8pCLUkf5h"
   },
   "source": [
    "1.Converting the type of 'Order Date' column into date time object :"
   ]
  },
  {
   "cell_type": "code",
   "execution_count": null,
   "metadata": {
    "id": "tKgCw43VgVE8"
   },
   "outputs": [],
   "source": [
    "df['Order Date']=pd.to_datetime(df['Order Date'])"
   ]
  },
  {
   "cell_type": "markdown",
   "metadata": {
    "id": "17bTJ6x2lYhi"
   },
   "source": [
    "2.Access to the hour of purchase by adding new column called 'Hour':"
   ]
  },
  {
   "cell_type": "code",
   "execution_count": null,
   "metadata": {
    "id": "U1xZL1-9lX8W"
   },
   "outputs": [],
   "source": [
    "df['Hour']=df['Order Date'].dt.hour\n",
    "df"
   ]
  },
  {
   "cell_type": "markdown",
   "metadata": {
    "id": "3bmm1p-xmMPL"
   },
   "source": [
    "3.Grouping data frame by the hour of purchase and plot it into a line chart :"
   ]
  },
  {
   "cell_type": "code",
   "execution_count": null,
   "metadata": {
    "id": "u9_HLKSlga2C"
   },
   "outputs": [],
   "source": [
    "result = df.groupby('Hour').count()['Total Price']"
   ]
  },
  {
   "cell_type": "markdown",
   "metadata": {
    "id": "COcjVO7lm7oC"
   },
   "source": [
    "4.As you can see the plot, the best time for showing adversite might be around 9am and 7pm :"
   ]
  },
  {
   "cell_type": "code",
   "execution_count": null,
   "metadata": {
    "colab": {
     "base_uri": "https://localhost:8080/",
     "height": 279
    },
    "id": "_sARBCKNmZZ0",
    "outputId": "2caf1a50-52a1-4bf8-b860-03c85a921d40"
   },
   "outputs": [
    {
     "data": {
      "image/png": "[encoded data removed]",
      "text/plain": [
       "<Figure size 432x288 with 1 Axes>"
      ]
     },
     "metadata": {
      "needs_background": "light",
      "tags": []
     },
     "output_type": "display_data"
    }
   ],
   "source": [
    "x = result.index\n",
    "y = result.values\n",
    "plt.plot(x,y)\n",
    "plt.grid()\n",
    "plt.xlabel('Hour Of Purchases')\n",
    "plt.ylabel('Counts Of Purchases')\n",
    "plt.xticks(x)\n",
    "plt.show()"
   ]
  },
  {
   "cell_type": "markdown",
   "metadata": {
    "id": "JDnnjDAfshVy"
   },
   "source": [
    "# **Question** **4** : What products sold the most ?"
   ]
  },
  {
   "cell_type": "markdown",
   "metadata": {
    "id": "rjMUxBJoAt-n"
   },
   "source": [
    "1.Grouping data frame by 'Product' column and get the quantity of every product and add them up : "
   ]
  },
  {
   "cell_type": "code",
   "execution_count": null,
   "metadata": {
    "colab": {
     "base_uri": "https://localhost:8080/"
    },
    "id": "x_V2irT2p44k",
    "outputId": "0b0ccfc3-7941-4573-cd29-531e2bbb4e2c"
   },
   "outputs": [
    {
     "data": {
      "text/plain": [
       "Product\n",
       "20in Monitor                   4129\n",
       "27in 4K Gaming Monitor         6244\n",
       "27in FHD Monitor               7550\n",
       "34in Ultrawide Monitor         6199\n",
       "AA Batteries (4-pack)         27635\n",
       "AAA Batteries (4-pack)        31017\n",
       "Apple Airpods Headphones      15661\n",
       "Bose SoundSport Headphones    13457\n",
       "Flatscreen TV                  4819\n",
       "Google Phone                   5532\n",
       "LG Dryer                        646\n",
       "LG Washing Machine              666\n",
       "Lightning Charging Cable      23217\n",
       "Macbook Pro Laptop             4728\n",
       "ThinkPad Laptop                4130\n",
       "USB-C Charging Cable          23975\n",
       "Vareebadd Phone                2068\n",
       "Wired Headphones              20557\n",
       "iPhone                         6849\n",
       "Name: Quantity Ordered, dtype: int16"
      ]
     },
     "execution_count": 115,
     "metadata": {
      "tags": []
     },
     "output_type": "execute_result"
    }
   ],
   "source": [
    "result=df.groupby('Product').sum()['Quantity Ordered']\n",
    "result"
   ]
  },
  {
   "cell_type": "markdown",
   "metadata": {
    "id": "62ikUyz5BFin"
   },
   "source": [
    "2.Ploting into a bar chart , as we can see the best seller product can be 'AAA Batterries' "
   ]
  },
  {
   "cell_type": "code",
   "execution_count": null,
   "metadata": {
    "colab": {
     "base_uri": "https://localhost:8080/",
     "height": 429
    },
    "id": "WwZXIuNl-UKb",
    "outputId": "a663b16e-ccad-491d-de28-b14a2f83d808"
   },
   "outputs": [
    {
     "data": {
      "image/png": "[encoded data removed]",
      "text/plain": [
       "<Figure size 432x288 with 1 Axes>"
      ]
     },
     "metadata": {
      "needs_background": "light",
      "tags": []
     },
     "output_type": "display_data"
    }
   ],
   "source": [
    "x = result.index\n",
    "y = result.values\n",
    "plt.bar(x,y)\n",
    "plt.xticks(x,rotation='vertical')\n",
    "plt.xlabel('Products',size=20,color='b')\n",
    "plt.ylabel('Quantity',size=20,color='b')\n",
    "plt.show()"
   ]
  },
  {
   "cell_type": "markdown",
   "metadata": {
    "id": "XtJyHd4ODUlB"
   },
   "source": [
    "# **Question** **5** : This question is basicly associated with previous one ,as a data analys  i wanna prove that why 'AAA Batterries' are the best seller products ? which reason was effective on this product to be a most sold product ?"
   ]
  },
  {
   "cell_type": "markdown",
   "metadata": {
    "id": "hd_GrbfOH4tW"
   },
   "source": [
    "1.Getting each price of each products : \n"
   ]
  },
  {
   "cell_type": "code",
   "execution_count": null,
   "metadata": {
    "colab": {
     "base_uri": "https://localhost:8080/"
    },
    "id": "zRR2aIFhDO5S",
    "outputId": "e3981c63-7e53-4bef-f400-ee3cf9f55aa1"
   },
   "outputs": [
    {
     "data": {
      "text/plain": [
       "Product\n",
       "20in Monitor                   110.751038\n",
       "27in 4K Gaming Monitor         390.876404\n",
       "27in FHD Monitor               150.859192\n",
       "34in Ultrawide Monitor         381.106628\n",
       "AA Batteries (4-pack)            5.156927\n",
       "AAA Batteries (4-pack)           4.493392\n",
       "Apple Airpods Headphones       151.080460\n",
       "Bose SoundSport Headphones     100.990616\n",
       "Flatscreen TV                  301.187500\n",
       "Google Phone                   600.760193\n",
       "LG Dryer                       600.000000\n",
       "LG Washing Machine             600.000000\n",
       "Lightning Charging Cable        16.029490\n",
       "Macbook Pro Laptop            1701.439453\n",
       "ThinkPad Laptop               1000.484497\n",
       "USB-C Charging Cable            13.083878\n",
       "Vareebadd Phone                400.581116\n",
       "Wired Headphones                13.056001\n",
       "iPhone                         700.716187\n",
       "Name: Total Price, dtype: float32"
      ]
     },
     "execution_count": 130,
     "metadata": {
      "tags": []
     },
     "output_type": "execute_result"
    }
   ],
   "source": [
    "prices = df.groupby('Product').mean()['Total Price']\n"
   ]
  },
  {
   "cell_type": "markdown",
   "metadata": {
    "id": "mOWqEFGtH2I2"
   },
   "source": [
    "2.Plotting two y axis in matplotlib (for quantities and each price).accourding to the plot ,whenever price of a specific product is high, the quantity of orders will be low and that's why 'AAA Batterries' are most sold , becouse they're cheap !! **notice** that this is just one reason,this can also have several reasons that they're effective on product quantity order. "
   ]
  },
  {
   "cell_type": "code",
   "execution_count": null,
   "metadata": {
    "colab": {
     "base_uri": "https://localhost:8080/",
     "height": 400
    },
    "id": "4k_ITYQ5FXDy",
    "outputId": "58b6ab12-27df-465c-d912-a0f58fc7f971"
   },
   "outputs": [
    {
     "data": {
      "image/png": "[encoded data removed]",
      "text/plain": [
       "<Figure size 432x288 with 2 Axes>"
      ]
     },
     "metadata": {
      "needs_background": "light",
      "tags": []
     },
     "output_type": "display_data"
    }
   ],
   "source": [
    "fig,ax1 = plt.subplots()\n",
    "ax2 = ax1.twinx()\n",
    "ax1.plot(x,y,color='g')\n",
    "ax2.plot(x,prices,'b-')\n",
    "ax1.set_xticklabels(x,rotation='vertical',size=8)\n",
    "ax1.set_xlabel('Product Name',size=20)\n",
    "ax1.set_ylabel('Quantity',size=20,color='green')\n",
    "ax2.set_ylabel('Each Price',size=20,color='blue')\n",
    "plt.grid()\n",
    "\n",
    "plt.show()"
   ]
  }
 ],
 "metadata": {
  "colab": {
   "collapsed_sections": [],
   "name": "sales_analysis.ipynb",
   "provenance": []
  },
  "kernelspec": {
   "display_name": "Python 3",
   "language": "python",
   "name": "python3"
  },
  "language_info": {
   "codemirror_mode": {
    "name": "ipython",
    "version": 3
   },
   "file_extension": ".py",
   "mimetype": "text/x-python",
   "name": "python",
   "nbconvert_exporter": "python",
   "pygments_lexer": "ipython3",
   "version": "3.8.5"
  }
 },
 "nbformat": 4,
 "nbformat_minor": 1
}
